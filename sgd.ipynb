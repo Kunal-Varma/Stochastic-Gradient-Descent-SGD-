{
 "cells": [
  {
   "cell_type": "markdown",
   "metadata": {},
   "source": [
    "# Assignment 6"
   ]
  },
  {
   "cell_type": "markdown",
   "metadata": {},
   "source": [
    "# 1.1 importing necessary packages"
   ]
  },
  {
   "cell_type": "code",
   "execution_count": 1,
   "metadata": {},
   "outputs": [],
   "source": [
    "import warnings\n",
    "warnings.filterwarnings(\"ignore\")\n",
    "from sklearn.datasets import load_boston\n",
    "from random import seed\n",
    "from random import randrange\n",
    "from csv import reader\n",
    "from math import sqrt\n",
    "from sklearn import preprocessing\n",
    "import pandas as pd\n",
    "import numpy as np\n",
    "import matplotlib.pyplot as plt\n",
    "from prettytable import PrettyTable\n",
    "from sklearn.linear_model import SGDRegressor\n",
    "from sklearn import preprocessing\n",
    "from sklearn.metrics import mean_squared_error"
   ]
  },
  {
   "cell_type": "markdown",
   "metadata": {},
   "source": [
    "# 1.2 Loading dataset"
   ]
  },
  {
   "cell_type": "markdown",
   "metadata": {},
   "source": [
    "## adding a new feature for feature engineering which is feature 13 "
   ]
  },
  {
   "cell_type": "code",
   "execution_count": 2,
   "metadata": {},
   "outputs": [
    {
     "data": {
      "text/html": [
       "<div>\n",
       "<style scoped>\n",
       "    .dataframe tbody tr th:only-of-type {\n",
       "        vertical-align: middle;\n",
       "    }\n",
       "\n",
       "    .dataframe tbody tr th {\n",
       "        vertical-align: top;\n",
       "    }\n",
       "\n",
       "    .dataframe thead th {\n",
       "        text-align: right;\n",
       "    }\n",
       "</style>\n",
       "<table border=\"1\" class=\"dataframe\">\n",
       "  <thead>\n",
       "    <tr style=\"text-align: right;\">\n",
       "      <th></th>\n",
       "      <th>0</th>\n",
       "      <th>1</th>\n",
       "      <th>2</th>\n",
       "      <th>3</th>\n",
       "      <th>4</th>\n",
       "      <th>5</th>\n",
       "      <th>6</th>\n",
       "      <th>7</th>\n",
       "      <th>8</th>\n",
       "      <th>9</th>\n",
       "      <th>10</th>\n",
       "      <th>11</th>\n",
       "      <th>12</th>\n",
       "      <th>13</th>\n",
       "    </tr>\n",
       "  </thead>\n",
       "  <tbody>\n",
       "    <tr>\n",
       "      <th>0</th>\n",
       "      <td>0.00632</td>\n",
       "      <td>18.0</td>\n",
       "      <td>2.31</td>\n",
       "      <td>0.0</td>\n",
       "      <td>0.538</td>\n",
       "      <td>6.575</td>\n",
       "      <td>65.2</td>\n",
       "      <td>4.0900</td>\n",
       "      <td>1.0</td>\n",
       "      <td>296.0</td>\n",
       "      <td>15.3</td>\n",
       "      <td>396.90</td>\n",
       "      <td>4.98</td>\n",
       "      <td>3.0</td>\n",
       "    </tr>\n",
       "    <tr>\n",
       "      <th>1</th>\n",
       "      <td>0.02731</td>\n",
       "      <td>0.0</td>\n",
       "      <td>7.07</td>\n",
       "      <td>0.0</td>\n",
       "      <td>0.469</td>\n",
       "      <td>6.421</td>\n",
       "      <td>78.9</td>\n",
       "      <td>4.9671</td>\n",
       "      <td>2.0</td>\n",
       "      <td>242.0</td>\n",
       "      <td>17.8</td>\n",
       "      <td>396.90</td>\n",
       "      <td>9.14</td>\n",
       "      <td>1.0</td>\n",
       "    </tr>\n",
       "    <tr>\n",
       "      <th>2</th>\n",
       "      <td>0.02729</td>\n",
       "      <td>0.0</td>\n",
       "      <td>7.07</td>\n",
       "      <td>0.0</td>\n",
       "      <td>0.469</td>\n",
       "      <td>7.185</td>\n",
       "      <td>61.1</td>\n",
       "      <td>4.9671</td>\n",
       "      <td>2.0</td>\n",
       "      <td>242.0</td>\n",
       "      <td>17.8</td>\n",
       "      <td>392.83</td>\n",
       "      <td>4.03</td>\n",
       "      <td>4.0</td>\n",
       "    </tr>\n",
       "    <tr>\n",
       "      <th>3</th>\n",
       "      <td>0.03237</td>\n",
       "      <td>0.0</td>\n",
       "      <td>2.18</td>\n",
       "      <td>0.0</td>\n",
       "      <td>0.458</td>\n",
       "      <td>6.998</td>\n",
       "      <td>45.8</td>\n",
       "      <td>6.0622</td>\n",
       "      <td>3.0</td>\n",
       "      <td>222.0</td>\n",
       "      <td>18.7</td>\n",
       "      <td>394.63</td>\n",
       "      <td>2.94</td>\n",
       "      <td>6.0</td>\n",
       "    </tr>\n",
       "    <tr>\n",
       "      <th>4</th>\n",
       "      <td>0.06905</td>\n",
       "      <td>0.0</td>\n",
       "      <td>2.18</td>\n",
       "      <td>0.0</td>\n",
       "      <td>0.458</td>\n",
       "      <td>7.147</td>\n",
       "      <td>54.2</td>\n",
       "      <td>6.0622</td>\n",
       "      <td>3.0</td>\n",
       "      <td>222.0</td>\n",
       "      <td>18.7</td>\n",
       "      <td>396.90</td>\n",
       "      <td>5.33</td>\n",
       "      <td>3.0</td>\n",
       "    </tr>\n",
       "  </tbody>\n",
       "</table>\n",
       "</div>"
      ],
      "text/plain": [
       "        0     1     2    3      4      5     6       7    8      9     10  \\\n",
       "0  0.00632  18.0  2.31  0.0  0.538  6.575  65.2  4.0900  1.0  296.0  15.3   \n",
       "1  0.02731   0.0  7.07  0.0  0.469  6.421  78.9  4.9671  2.0  242.0  17.8   \n",
       "2  0.02729   0.0  7.07  0.0  0.469  7.185  61.1  4.9671  2.0  242.0  17.8   \n",
       "3  0.03237   0.0  2.18  0.0  0.458  6.998  45.8  6.0622  3.0  222.0  18.7   \n",
       "4  0.06905   0.0  2.18  0.0  0.458  7.147  54.2  6.0622  3.0  222.0  18.7   \n",
       "\n",
       "       11    12   13  \n",
       "0  396.90  4.98  3.0  \n",
       "1  396.90  9.14  1.0  \n",
       "2  392.83  4.03  4.0  \n",
       "3  394.63  2.94  6.0  \n",
       "4  396.90  5.33  3.0  "
      ]
     },
     "execution_count": 2,
     "metadata": {},
     "output_type": "execute_result"
    }
   ],
   "source": [
    "X = load_boston().data\n",
    "Y = load_boston().target\n",
    "df=pd.DataFrame(X)\n",
    "# adding a new feature because feauture 10 represents the Median value of owner-occupied homes in $1000's and feature 12 represents he proportion of blacks by town \n",
    "df[13]=df[10]//df[12]  #here we set a column 13 such that df[13]=Boston_data['Medv']//Boston_data['B']\n",
    "X=df.as_matrix()\n",
    "df.head()"
   ]
  },
  {
   "cell_type": "code",
   "execution_count": 17,
   "metadata": {},
   "outputs": [],
   "source": [
    "# Standardizing all numerical features"
   ]
  },
  {
   "cell_type": "code",
   "execution_count": 3,
   "metadata": {},
   "outputs": [
    {
     "data": {
      "text/html": [
       "<div>\n",
       "<style scoped>\n",
       "    .dataframe tbody tr th:only-of-type {\n",
       "        vertical-align: middle;\n",
       "    }\n",
       "\n",
       "    .dataframe tbody tr th {\n",
       "        vertical-align: top;\n",
       "    }\n",
       "\n",
       "    .dataframe thead th {\n",
       "        text-align: right;\n",
       "    }\n",
       "</style>\n",
       "<table border=\"1\" class=\"dataframe\">\n",
       "  <thead>\n",
       "    <tr style=\"text-align: right;\">\n",
       "      <th></th>\n",
       "      <th>0</th>\n",
       "      <th>1</th>\n",
       "      <th>2</th>\n",
       "      <th>3</th>\n",
       "      <th>4</th>\n",
       "      <th>5</th>\n",
       "      <th>6</th>\n",
       "      <th>7</th>\n",
       "      <th>8</th>\n",
       "      <th>9</th>\n",
       "      <th>10</th>\n",
       "      <th>11</th>\n",
       "      <th>12</th>\n",
       "      <th>13</th>\n",
       "      <th>price</th>\n",
       "    </tr>\n",
       "  </thead>\n",
       "  <tbody>\n",
       "    <tr>\n",
       "      <th>0</th>\n",
       "      <td>-0.434509</td>\n",
       "      <td>2.569022</td>\n",
       "      <td>-1.267370</td>\n",
       "      <td>-0.282166</td>\n",
       "      <td>-1.340054</td>\n",
       "      <td>0.102435</td>\n",
       "      <td>-1.751328</td>\n",
       "      <td>1.935397</td>\n",
       "      <td>-0.474174</td>\n",
       "      <td>-0.253558</td>\n",
       "      <td>-1.649552</td>\n",
       "      <td>0.077328</td>\n",
       "      <td>-1.079907</td>\n",
       "      <td>0.408108</td>\n",
       "      <td>22.5</td>\n",
       "    </tr>\n",
       "    <tr>\n",
       "      <th>1</th>\n",
       "      <td>-0.435461</td>\n",
       "      <td>-0.477752</td>\n",
       "      <td>-1.235724</td>\n",
       "      <td>-0.282166</td>\n",
       "      <td>-0.564048</td>\n",
       "      <td>0.980322</td>\n",
       "      <td>-0.382070</td>\n",
       "      <td>-0.449103</td>\n",
       "      <td>-0.709354</td>\n",
       "      <td>-1.244803</td>\n",
       "      <td>-0.274700</td>\n",
       "      <td>0.424886</td>\n",
       "      <td>-1.070356</td>\n",
       "      <td>1.194179</td>\n",
       "      <td>37.2</td>\n",
       "    </tr>\n",
       "    <tr>\n",
       "      <th>2</th>\n",
       "      <td>1.455745</td>\n",
       "      <td>-0.477752</td>\n",
       "      <td>1.014046</td>\n",
       "      <td>-0.282166</td>\n",
       "      <td>1.658151</td>\n",
       "      <td>-0.464389</td>\n",
       "      <td>0.672580</td>\n",
       "      <td>-0.930124</td>\n",
       "      <td>1.760030</td>\n",
       "      <td>1.596768</td>\n",
       "      <td>0.825181</td>\n",
       "      <td>-3.552132</td>\n",
       "      <td>2.883877</td>\n",
       "      <td>-1.164035</td>\n",
       "      <td>8.4</td>\n",
       "    </tr>\n",
       "    <tr>\n",
       "      <th>3</th>\n",
       "      <td>-0.436571</td>\n",
       "      <td>0.436280</td>\n",
       "      <td>-0.778290</td>\n",
       "      <td>-0.282166</td>\n",
       "      <td>-0.996142</td>\n",
       "      <td>-0.377292</td>\n",
       "      <td>-1.704852</td>\n",
       "      <td>1.452134</td>\n",
       "      <td>-0.591764</td>\n",
       "      <td>-0.944426</td>\n",
       "      <td>-0.732984</td>\n",
       "      <td>0.424886</td>\n",
       "      <td>-0.607801</td>\n",
       "      <td>-0.377963</td>\n",
       "      <td>23.4</td>\n",
       "    </tr>\n",
       "    <tr>\n",
       "      <th>4</th>\n",
       "      <td>0.766851</td>\n",
       "      <td>-0.477752</td>\n",
       "      <td>1.014046</td>\n",
       "      <td>-0.282166</td>\n",
       "      <td>1.243693</td>\n",
       "      <td>0.276630</td>\n",
       "      <td>1.062264</td>\n",
       "      <td>-0.975393</td>\n",
       "      <td>1.760030</td>\n",
       "      <td>1.596768</td>\n",
       "      <td>0.825181</td>\n",
       "      <td>0.365221</td>\n",
       "      <td>0.577923</td>\n",
       "      <td>-0.377963</td>\n",
       "      <td>13.1</td>\n",
       "    </tr>\n",
       "  </tbody>\n",
       "</table>\n",
       "</div>"
      ],
      "text/plain": [
       "          0         1         2         3         4         5         6  \\\n",
       "0 -0.434509  2.569022 -1.267370 -0.282166 -1.340054  0.102435 -1.751328   \n",
       "1 -0.435461 -0.477752 -1.235724 -0.282166 -0.564048  0.980322 -0.382070   \n",
       "2  1.455745 -0.477752  1.014046 -0.282166  1.658151 -0.464389  0.672580   \n",
       "3 -0.436571  0.436280 -0.778290 -0.282166 -0.996142 -0.377292 -1.704852   \n",
       "4  0.766851 -0.477752  1.014046 -0.282166  1.243693  0.276630  1.062264   \n",
       "\n",
       "          7         8         9        10        11        12        13  price  \n",
       "0  1.935397 -0.474174 -0.253558 -1.649552  0.077328 -1.079907  0.408108   22.5  \n",
       "1 -0.449103 -0.709354 -1.244803 -0.274700  0.424886 -1.070356  1.194179   37.2  \n",
       "2 -0.930124  1.760030  1.596768  0.825181 -3.552132  2.883877 -1.164035    8.4  \n",
       "3  1.452134 -0.591764 -0.944426 -0.732984  0.424886 -0.607801 -0.377963   23.4  \n",
       "4 -0.975393  1.760030  1.596768  0.825181  0.365221  0.577923 -0.377963   13.1  "
      ]
     },
     "execution_count": 3,
     "metadata": {},
     "output_type": "execute_result"
    }
   ],
   "source": [
    "#Splitting whole data into train and test\n",
    "#https://scikit-learn.org/stable/modules/generated/sklearn.linear_model.SGDRegressor.html\n",
    "from sklearn.model_selection  import train_test_split\n",
    "X_train, X_test, y_train, y_test=train_test_split(X, Y, test_size=0.33, random_state=7)\n",
    "\n",
    "# applying column standardization on train and test data\n",
    "\n",
    "scaler = preprocessing.StandardScaler()\n",
    "X_train = scaler.fit_transform(X_train)\n",
    "X_test=scaler.transform(X_test)\n",
    "\n",
    "df_train=pd.DataFrame(X_train)\n",
    "df_train['price']=y_train\n",
    "df_train.head()"
   ]
  },
  {
   "cell_type": "markdown",
   "metadata": {},
   "source": [
    "# 1.3 SGD implementation for linear regression\n",
    "- function having parameter X_train,y_train,no of iteration,learning rate r\n",
    "- intialising no of iteration=1000,learning rate =0.01\n",
    "- batch size=32"
   ]
  },
  {
   "cell_type": "code",
   "execution_count": 5,
   "metadata": {},
   "outputs": [
    {
     "name": "stdout",
     "output_type": "stream",
     "text": [
      "[[-1.06376104  0.31049954 -0.29369134  0.54904567 -1.67674344  2.97486592\n",
      "   0.06973423 -2.60088026  1.787087   -1.12082982 -2.46390053  0.67676598\n",
      "  -0.63292549  3.23570847]]\n",
      "[22.59734909]\n"
     ]
    }
   ],
   "source": [
    "\n",
    "# batch_size should be selected as a multiple of 2 for good results\n",
    "\n",
    "\n",
    "W,B,iteration,lr_rate,k=np.random.randn(1,14),0,1000,0.01,32 #intialise W to random no and B to zero\n",
    "\n",
    "while iteration>=0:\n",
    "    w,b,temp_vectors,temp_intercept=W,B,np.zeros(shape=(1,14)),0\n",
    "    data=df_train.sample(32) #sampling random k=batch size=32 data\n",
    "    x=np.array(data.drop('price',axis=1))\n",
    "    y=np.array(data['price'])\n",
    "    \n",
    "    for i in range(k):\n",
    "        temp_vectors+=(-2)*x[i]*(y[i]-(np.dot(w,x[i])+b))#partial differentiation wrt w dl/dw=1/k(-2x)*(y-wTx-b)\n",
    "        temp_intercept+=(-2)*(y[i]-(np.dot(w,x[i])+b))#partial differentiation wrt b dl/db=1/k(-2)*(y-wTx-b)\n",
    "        \n",
    "    W=(w-lr_rate*(temp_vectors)/k)\n",
    "    B=(b-lr_rate*(temp_intercept)/k)\n",
    "    \n",
    "    iteration-=1\n",
    "    \n",
    "    \n",
    "    \n",
    "print(W)\n",
    "print(B)"
   ]
  },
  {
   "cell_type": "code",
   "execution_count": 6,
   "metadata": {},
   "outputs": [],
   "source": [
    "#prediction on x_test\n",
    "#https://www.geeksforgeeks.org/numpy-asscalar-in-python/\n",
    "y_predic_lr=[]\n",
    "for i in range(len(X_test)):\n",
    "    val=np.dot(W,X_test[i])+B  #val= wTx+b\n",
    "    y_predic_lr.append(np.asscalar(val))"
   ]
  },
  {
   "cell_type": "markdown",
   "metadata": {},
   "source": [
    "# Scatter plot of manual SGD implementation"
   ]
  },
  {
   "cell_type": "code",
   "execution_count": 7,
   "metadata": {},
   "outputs": [
    {
     "data": {
      "image/png": "[encoded data removed]",
      "text/plain": [
       "<Figure size 432x288 with 1 Axes>"
      ]
     },
     "metadata": {
      "needs_background": "light"
     },
     "output_type": "display_data"
    }
   ],
   "source": [
    "#Scatter plot of actual price vs predicted price\n",
    "\n",
    "plt.scatter(y_test,y_predic_lr)\n",
    "plt.xlabel('Actual price')\n",
    "plt.ylabel('Predictd price')\n",
    "plt.title('Actual price vs Predicted price')\n",
    "plt.show()"
   ]
  },
  {
   "cell_type": "code",
   "execution_count": 8,
   "metadata": {},
   "outputs": [
    {
     "name": "stdout",
     "output_type": "stream",
     "text": [
      "mean squared error = 20.290469323888228\n"
     ]
    }
   ],
   "source": [
    "MSE_lr=mean_squared_error(y_test,y_predic_lr)\n",
    "print('mean squared error =',MSE_lr)"
   ]
  },
  {
   "cell_type": "markdown",
   "metadata": {},
   "source": [
    "# 1.5 Scatterplot of sklearn SGD"
   ]
  },
  {
   "cell_type": "code",
   "execution_count": 11,
   "metadata": {},
   "outputs": [
    {
     "data": {
      "image/png": "[encoded data removed]",
      "text/plain": [
       "<Figure size 432x288 with 1 Axes>"
      ]
     },
     "metadata": {
      "needs_background": "light"
     },
     "output_type": "display_data"
    }
   ],
   "source": [
    "#SGD regression sklearn implementation\n",
    "\n",
    "#intialising no of iteration=1000,eta0=1\n",
    "#taking t=2 and power_t=1 such that for each iteration eta0=eta0/pow(2,1) ,it means half each times\n",
    "\n",
    "model=SGDRegressor(learning_rate='constant',eta0=0.01,penalty=None,max_iter=1000)\n",
    "model.fit(X_train,y_train)\n",
    "y_pred_sgd=model.predict(X_test)\n",
    "\n",
    "#Scatter plot of actual price vs predicted price\n",
    "\n",
    "plt.scatter(y_test,y_pred_sgd)\n",
    "plt.xlabel('Actual price')\n",
    "plt.ylabel('Predictd price')\n",
    "plt.title('Actual price vs Predicted price')\n",
    "plt.show()"
   ]
  },
  {
   "cell_type": "markdown",
   "metadata": {},
   "source": [
    "# Explanation"
   ]
  },
  {
   "cell_type": "markdown",
   "metadata": {},
   "source": [
    "- We observe the scatterplots of both manual implemention as well as sklearn SGD give almost similar plots\n",
    "\n",
    "- It implies manual implementation is almost correct"
   ]
  },
  {
   "cell_type": "code",
   "execution_count": 12,
   "metadata": {},
   "outputs": [
    {
     "name": "stdout",
     "output_type": "stream",
     "text": [
      "mean squared error = 20.874879169535497\n"
     ]
    }
   ],
   "source": [
    "MSE_sgd=mean_squared_error(y_test,y_pred_sgd)\n",
    "print('mean squared error =',MSE_sgd)"
   ]
  },
  {
   "cell_type": "code",
   "execution_count": 25,
   "metadata": {},
   "outputs": [
    {
     "name": "stdout",
     "output_type": "stream",
     "text": [
      "+------------------------------+------------------------------+\n",
      "| Weight vector of  manual SGD | Weight vector of SGD sklearn |\n",
      "+------------------------------+------------------------------+\n",
      "|     -1.0637610418383168      |     -1.2102669406105764      |\n",
      "|      0.3104995415747905      |     0.16492965830786752      |\n",
      "|     -0.29369133922081336     |     -0.3152219947428299      |\n",
      "|      0.549045666598545       |     0.28006128032896843      |\n",
      "|     -1.6767434379586952      |     -1.7182269873531635      |\n",
      "|      2.974865920224037       |      2.7945077844582427      |\n",
      "|     0.06973422979094325      |    9.298135371791543e-05     |\n",
      "|      -2.600880260417682      |      -2.691161025332599      |\n",
      "|      1.7870869985271018      |      2.0752309264734548      |\n",
      "|     -1.1208298245761101      |      -1.41252292288952       |\n",
      "|     -2.4639005262277456      |      -2.601583342104059      |\n",
      "|      0.6767659847794245      |     0.47285396370479016      |\n",
      "|     -0.6329254893449336      |     -0.2862603629565815      |\n",
      "+------------------------------+------------------------------+\n"
     ]
    }
   ],
   "source": [
    "\n",
    "# Comparing weights of two implementations\n",
    "from prettytable import PrettyTable    \n",
    "x = PrettyTable()\n",
    "x.field_names=['Weight vector of  manual SGD','Weight vector of SGD sklearn']\n",
    "weight_sgd=model.coef_\n",
    "for i in range(13):\n",
    "    x.add_row([W[0][i],weight_sgd[i]])\n",
    "print(x)"
   ]
  },
  {
   "cell_type": "code",
   "execution_count": 24,
   "metadata": {},
   "outputs": [
    {
     "name": "stdout",
     "output_type": "stream",
     "text": [
      "Mean Square error of manual implementation =  20.290469323888228\n",
      "--------------------------------------------------\n",
      "Mean square error of SGD sklearn implementation =  20.874879169535497\n"
     ]
    }
   ],
   "source": [
    "\n",
    "#comparison between MSE of own implementation and SGD sklearn implementation\n",
    "print('Mean Square error of manual implementation = ',MSE_lr)\n",
    "print('-'*50)\n",
    "print('Mean square error of SGD sklearn implementation = ',MSE_sgd)"
   ]
  },
  {
   "cell_type": "code",
   "execution_count": 16,
   "metadata": {},
   "outputs": [
    {
     "name": "stdout",
     "output_type": "stream",
     "text": [
      "+------------------------------+--------------------+\n",
      "| MSE of manual implementation | MSE of SGD sklearn |\n",
      "+------------------------------+--------------------+\n",
      "|            20.29             |       20.87        |\n",
      "+------------------------------+--------------------+\n"
     ]
    }
   ],
   "source": [
    "z= PrettyTable()\n",
    "z.field_names=['MSE of manual implementation',\"MSE of SGD sklearn\"]\n",
    "z.add_row([20.29,20.87])\n",
    "print(z)"
   ]
  },
  {
   "cell_type": "markdown",
   "metadata": {},
   "source": [
    "# Conclusion"
   ]
  },
  {
   "cell_type": "markdown",
   "metadata": {},
   "source": [
    "- We observe that weight vectors of manual implementation and sklearns SGD implementation nearly give same values for the Boston dataset\n",
    "- MSE of manual implementation was 20.29 and that of Sklearn was 20.87"
   ]
  }
 ],
 "metadata": {
  "colab": {
   "name": "Untitled3.ipynb",
   "provenance": [],
   "version": "0.3.2"
  },
  "kernelspec": {
   "display_name": "Python 3",
   "language": "python",
   "name": "python3"
  },
  "language_info": {
   "codemirror_mode": {
    "name": "ipython",
    "version": 3
   },
   "file_extension": ".py",
   "mimetype": "text/x-python",
   "name": "python",
   "nbconvert_exporter": "python",
   "pygments_lexer": "ipython3",
   "version": "3.6.7"
  }
 },
 "nbformat": 4,
 "nbformat_minor": 1
}
